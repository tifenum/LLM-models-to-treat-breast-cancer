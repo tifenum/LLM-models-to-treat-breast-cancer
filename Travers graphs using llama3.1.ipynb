{
 "cells": [
  {
   "cell_type": "markdown",
   "id": "6fed6c48",
   "metadata": {},
   "source": [
    "### Interactive LLM"
   ]
  },
  {
   "cell_type": "markdown",
   "id": "f676df38",
   "metadata": {},
   "source": [
    "### Step 0 : Importing our Model from OLLAMA\n"
   ]
  },
  {
   "cell_type": "code",
   "execution_count": 15,
   "id": "36bab2c5",
   "metadata": {},
   "outputs": [],
   "source": [
    "import os\n",
    "from langchain_community.llms.ollama import Ollama\n",
    "\n",
    "# Load the locally hosted model\n",
    "model_path = 'llama3.1'  # Ensure this path corresponds to the correct model name\n",
    "llm = Ollama(model=model_path)\n",
    "\n",
    "# Set the temperature parameter if needed\n",
    "llm.temperature = 0\n",
    "\n",
    "# Define a function to ask the LLM a question\n",
    "def ask_llm(prompt):\n",
    "    response = llm(prompt)\n",
    "    return response\n",
    "\n",
    "def ask_llm2(patient_conditions, current_node,prompt):\n",
    "    # Integrate the prompt with patient conditions and current node\n",
    "    full_prompt = f\"\\nPatient Conditions: {patient_conditions}\\nCurrent Node: {current_node}\\n{prompt}\\n\"\n",
    "    response = llm(full_prompt)\n",
    "    return response.strip()\n",
    "\n"
   ]
  },
  {
   "cell_type": "code",
   "execution_count": 10,
   "id": "b220ad8d",
   "metadata": {},
   "outputs": [
    {
     "data": {
      "text/plain": [
       "['Patients with newly diagnosed or recurrent MBC',\n",
       " 'MANAGEMENT OF ER-POSITIVE, HER2-NEGATIVE MBC',\n",
       " 'FIRST- AND SECOND-LINE TREATMENT OF HER2-POSITIVE MBC',\n",
       " 'THIRD-LINE AND BEYOND TREATMENT OF HER2-POSITIVE MBC',\n",
       " 'MANAGEMENT OF mTNBC',\n",
       " 'MANAGEMENT OF EARLY TNBC',\n",
       " 'MANAGEMENT OF HER2-POSITIVE EBC',\n",
       " 'ROLE OF ADJUVANT ET IN HR-POSITIVE EBC',\n",
       " 'SYSTEMIC TREATMENT OF HR-POSITIVE, HER2-NEGATIVE EBC',\n",
       " 'MANAGEMENT OF ALN INVOLVEMENT IN EBC',\n",
       " 'Patients with a suspicion of OMD',\n",
       " 'BRCA1 PV',\n",
       " 'BRCA2 PV',\n",
       " 'Diagnosis and staging of EBC',\n",
       " 'Overview of EBC treatment']"
      ]
     },
     "execution_count": 10,
     "metadata": {},
     "output_type": "execute_result"
    }
   ],
   "source": [
    "name_of_graphs"
   ]
  },
  {
   "cell_type": "markdown",
   "id": "23312068",
   "metadata": {},
   "source": [
    "### Step1 : Find the equivalent graph to this patient"
   ]
  },
  {
   "cell_type": "code",
   "execution_count": 16,
   "id": "c59fafef",
   "metadata": {},
   "outputs": [],
   "source": [
    "def find_the_equivalent_graph_to_this_patient(name_of_graphs,patient_file_paragraph):\n",
    "    prompt = f\"\"\"\n",
    "    From this list of names of graphs :{' ,'.join(i for i in name_of_graphs)}, pick the graph that exactly matches any reference in this patient file {patient_file_paragraph}.\n",
    "    Return **only** the exact name of the graph. If there is no matching graph, return 'idk'.\n",
    "    **Do not provide explanations or any other information.**\n",
    "    \"\"\"\n",
    "\n",
    "    graph_name = ask_llm(prompt)\n",
    "    return graph_name"
   ]
  },
  {
   "cell_type": "code",
   "execution_count": 13,
   "id": "4132a897",
   "metadata": {},
   "outputs": [],
   "source": [
    "x=\"\"\"A 62-year-old postmenopausal woman with ER-positive, HER2-negative metastatic breast cancer.\n",
    "She has bone metastases but no visceral involvement.\n",
    "She has been previously treated with an aromatase inhibitor (AI) and a CDK4/6 inhibitor.\"\"\"\n",
    "s=find_the_equivalent_graph_to_this_patient(name_of_graphs,x)\n"
   ]
  },
  {
   "cell_type": "code",
   "execution_count": 14,
   "id": "9b20303d",
   "metadata": {},
   "outputs": [
    {
     "data": {
      "text/plain": [
       "'MANAGEMENT OF ER-POSITIVE, HER2-NEGATIVE MBC'"
      ]
     },
     "execution_count": 14,
     "metadata": {},
     "output_type": "execute_result"
    }
   ],
   "source": [
    "s"
   ]
  },
  {
   "cell_type": "markdown",
   "id": "9febceb3",
   "metadata": {},
   "source": [
    "### Step2:Convert to graph\n",
    "MOCHKELT DATABASE ARCHITETURE INAJMOU INBADLOUHA "
   ]
  },
  {
   "cell_type": "code",
   "execution_count": 4,
   "id": "400a9f3a",
   "metadata": {},
   "outputs": [],
   "source": [
    "def convert_to_graph(input_dict):\n",
    "    # Initialize the graph dictionary\n",
    "    graph = {}\n",
    "\n",
    "    # Extract nodes and edges from the input dictionary\n",
    "    nodes = input_dict['nodes']\n",
    "    edges = input_dict['edges']\n",
    "    \n",
    "    # Create an entry for each node\n",
    "    for node, description in nodes.items():\n",
    "        graph[node] = []\n",
    "\n",
    "    # Create edges based on the input\n",
    "    for start, end, condition in edges:\n",
    "        # Add the edge to the graph\n",
    "        if start in graph:\n",
    "            graph[start].append((end, condition))\n",
    "\n",
    "    return graph"
   ]
  },
  {
   "cell_type": "markdown",
   "id": "2a573001",
   "metadata": {},
   "source": [
    "### Step 3: From paraph to a list extraction\n"
   ]
  },
  {
   "cell_type": "code",
   "execution_count": 5,
   "id": "ea8425e1",
   "metadata": {},
   "outputs": [],
   "source": [
    "def fromparaph_toalist_extraction(paragraph):\n",
    "    prompt1 = f\"\"\"\n",
    "        Extract the following key medical information from the given text into a structured list:\n",
    "        - Age\n",
    "        - Gender\n",
    "        - Medical history\n",
    "        - Diagnoses\n",
    "        - Treatments\n",
    "        - Medications\n",
    "        - Relevant information for clinical decision-making\n",
    "\n",
    "        Text: \"{paragraph}\"\n",
    "\n",
    "        Output the information in a list format without labels or extra explanations:\n",
    "        [Age, Gender, Medical history, Diagnoses, Treatments, Medications, Relevant information for clinical decision-making]\n",
    "\n",
    "        **Response should include all relevant details in a simple list format as shown above.**\n",
    "        \"\"\"\n",
    "    response = ask_llm(prompt1)\n",
    "    #print(\"LLM Response:\", response)\n",
    "    #output list 7athra\n",
    "    l=response[1:-1].split(',')\n",
    "    l.append('')\n",
    "    return l\n"
   ]
  },
  {
   "cell_type": "markdown",
   "id": "c6fdf8fa",
   "metadata": {},
   "source": [
    "### Step 4 : Parcour the graph and give the node or question if you need more info"
   ]
  },
  {
   "cell_type": "code",
   "execution_count": 6,
   "id": "be642c71",
   "metadata": {},
   "outputs": [],
   "source": [
    "def traverse_with_conditions(graph, start_node, conditions,path=[],graph_name=\"Breast Cancer Treatment Pathway\"):\n",
    "    path=[]\n",
    "    current_node = start_node\n",
    "    while(1):\n",
    "        \n",
    "        found=False\n",
    "        print(current_node)\n",
    "        x=[]\n",
    "        suiv=[]\n",
    "        for neighbor, edge_condition in graph[current_node]:\n",
    "            \n",
    "\n",
    "            if edge_condition in conditions:\n",
    "                    path.append((current_node, neighbor))\n",
    "                    current_node = neighbor\n",
    "                    found = True\n",
    "                    break   \n",
    "            else:\n",
    "                x.append(edge_condition)\n",
    "                suiv.append(neighbor)\n",
    "\n",
    "\n",
    "        if not found:\n",
    "            if len(suiv)!=0:\n",
    "                \n",
    "                \n",
    "                \n",
    "\n",
    "                prompt = f\"\"\"\n",
    "                    You are traversing a medical decision graph using Depth-First Search (DFS).\n",
    "                    Nodes represent conditions, and edges represent possible transitions.\n",
    "\n",
    "                    Current state:\n",
    "                    - Graph: {graph}\n",
    "                    - Current Node: '{current_node}'\n",
    "                    - Neighbors: {', '.join([f\"{n} (condition: {c})\" for n, c in zip(suiv, x)])}\n",
    "\n",
    "                    **Instructions:**\n",
    "                    1. If the patient's conditions match any of the transition conditions exactly, respond with \"nextnode:<name of the node>\" for the correct node.\n",
    "                    2. If no match is found or if more information is needed, ask for it with \"question: Give me the status of <condition>\".\n",
    "                    3. Provide only one output, either \"nextnode:<name of the node>\" or \"question:<specific question>\".\n",
    "\n",
    "                    **Rules:**\n",
    "                    - Do not make assumptions. Proceed only if conditions match exactly.\n",
    "                    - If unsure, always ask for more information.\n",
    "\n",
    "                    \n",
    "                    **Output ONLY:**\n",
    "                     - If all conditions match exactly one node: \"nextnode:<name of the node>\"\n",
    "                     - If additional information is needed to proceed: \"question: {\" or \".join([f'Give me {c} status?' for c in x])}\"\n",
    "\n",
    "                    **Do not provide explanations or any other information.**\n",
    "                    \"\"\"\n",
    "\n",
    "\n",
    "                #print(prompt)\n",
    "                \n",
    "                \n",
    "                \n",
    "                response = ask_llm(prompt)\n",
    "                print(response)\n",
    "                ch=\"\"\n",
    "                if \"nextnode:\" in response:\n",
    "                    ch=response[len(\"nextnode:\"):].replace(\" \", \"\")\n",
    "                    path.append((current_node, ch))\n",
    "                    current_node = ch\n",
    "                    print(current_node,len(current_node))\n",
    "                    found = True\n",
    "                       \n",
    "                else:\n",
    "                    \n",
    "                    print(response)\n",
    "                    #print(f\"taw netfehmou khater lezemik '{x}' condition w enty f {current_node}.\")\n",
    "                    break\n",
    "            else:\n",
    "                print(\"wselt node final:\",current_node)\n",
    "                break\n",
    "\n",
    "    return path\n"
   ]
  },
  {
   "cell_type": "markdown",
   "id": "0f233fff",
   "metadata": {},
   "source": [
    "### Final treatment output function !\n"
   ]
  },
  {
   "cell_type": "code",
   "execution_count": 7,
   "id": "598867c1",
   "metadata": {},
   "outputs": [],
   "source": [
    "import time\n",
    "def Frompatient_file_paragraph_to_following_treatment(name_of_graphs,patient_file_paragraph):\n",
    "    # Start time\n",
    "    start_time = time.time()\n",
    "    prompt = f\"\"\"\n",
    "From this list of names of graphs {name_of_graphs}, pick the graph that exactly matches any reference in this patient file {patient_file_paragraph}.\n",
    "Return **only** the exact name of the graph. If there is no matching graph, return 'idk'.\n",
    "**Do not provide explanations or any other information.**\n",
    "\"\"\"\n",
    "\n",
    "    #graph_name = s\n",
    "    # Your code here\n",
    "    graph_name=find_the_equivalent_graph_to_this_patient(name_of_graphs,patient_file_paragraph)\n",
    "    if graph_name=='idk':\n",
    "        return False\n",
    "    print(\"graph_name:\", graph_name)\n",
    "    graph=convert_to_graph(graphs[graph_name])\n",
    "    print(\"converting graph output:\\n\",graph)\n",
    "    patient_conditions=fromparaph_toalist_extraction(patient_file_paragraph)\n",
    "    print(\"patient_conditions list\",patient_conditions)\n",
    "    # Start the traversal from node 'A'\n",
    "    path_taken = traverse_with_conditions(graph, 'A', patient_conditions)\n",
    "\n",
    "    # Output the path taken\n",
    "    print(\"Path taken:\")\n",
    "    for step in path_taken:\n",
    "        print(f\"  {step[0]} -> {step[1]}\")\n",
    "    \n",
    "    # End time\n",
    "    end_time = time.time()\n",
    "    elapsed_time = end_time - start_time\n",
    "    print(f\"Elapsed time: {elapsed_time} seconds\")\n",
    "    return True"
   ]
  },
  {
   "cell_type": "code",
   "execution_count": null,
   "id": "0cf21ab7",
   "metadata": {},
   "outputs": [],
   "source": [
    "#Some cases\n",
    "#LLM Response: MANAGEMENT OF HR-POSITIVE, HER2-NEGATIVE MBC\n",
    "#LLM Response: FIRST- AND SECOND-LINE TREATMENT OF HER2-POSITIVE MBC\n",
    "#LLM Response: MANAGEMENT OF mTNBC\n",
    "\"\"\"A 62-year-old postmenopausal woman with ER-positive, HER2-negative metastatic breast cancer.\n",
    "She has bone metastases but no visceral involvement.\n",
    "She has been previously treated with an aromatase inhibitor (AI) and a CDK4/6 inhibitor.\n",
    "-----------------------------------------\n",
    "A 48-year-old premenopausal woman with HER2-positive, ER-negative metastatic breast cancer. The cancer has metastasized to the liver and lungs. She has not been treated with any targeted therapy for HER2.\n",
    "------------------------------------------\n",
    "A 45-year-old woman with metastatic triple-negative breast cancer (mTNBC). She is PD-L1 positive and has a germline BRCA1 mutation. The cancer has spread to the lungs and bones.\n",
    "\"\"\"\n"
   ]
  },
  {
   "cell_type": "markdown",
   "id": "b32723b2",
   "metadata": {},
   "source": [
    "### Enter Patient File"
   ]
  },
  {
   "cell_type": "code",
   "execution_count": 8,
   "id": "5770ba68",
   "metadata": {},
   "outputs": [
    {
     "name": "stdout",
     "output_type": "stream",
     "text": [
      "A 62-year-old postmenopausal woman with ER-positive, HER2-negative metastatic breast cancer. She has bone metastases but no visceral involvement. She has been previously treated with an aromatase inhibitor (AI) and a CDK4/6 inhibitor.\n"
     ]
    }
   ],
   "source": [
    "patient_file_paragraph=input()"
   ]
  },
  {
   "cell_type": "markdown",
   "id": "434623df",
   "metadata": {},
   "source": [
    "### import DB (graphs)"
   ]
  },
  {
   "cell_type": "code",
   "execution_count": 2,
   "id": "8f77a410",
   "metadata": {},
   "outputs": [
    {
     "name": "stdout",
     "output_type": "stream",
     "text": [
      "<class 'dict'>\n"
     ]
    }
   ],
   "source": [
    "#1-identify the correspond graph\n",
    "import ast\n",
    "\n",
    "# Step 1: Read the content of the file\n",
    "with open('Graphs.txt', 'r') as file:\n",
    "    file_content = file.read()\n",
    "\n",
    "# Step 2: Convert the string content to a dictionary\n",
    "graphs = ast.literal_eval(file_content)\n",
    "\n",
    "# Step 3: Now, 'graphs' is a dictionary that you can use\n",
    "print(type(graphs))\n",
    "\n"
   ]
  },
  {
   "cell_type": "code",
   "execution_count": 3,
   "id": "70280423",
   "metadata": {},
   "outputs": [],
   "source": [
    "name_of_graphs=[]\n",
    "for i in graphs:\n",
    "    name_of_graphs.append(i)\n"
   ]
  },
  {
   "cell_type": "code",
   "execution_count": 11,
   "id": "b725adea",
   "metadata": {},
   "outputs": [
    {
     "data": {
      "text/plain": [
       "['Patients with newly diagnosed or recurrent MBC',\n",
       " 'MANAGEMENT OF ER-POSITIVE, HER2-NEGATIVE MBC',\n",
       " 'FIRST- AND SECOND-LINE TREATMENT OF HER2-POSITIVE MBC',\n",
       " 'THIRD-LINE AND BEYOND TREATMENT OF HER2-POSITIVE MBC',\n",
       " 'MANAGEMENT OF mTNBC',\n",
       " 'MANAGEMENT OF EARLY TNBC',\n",
       " 'MANAGEMENT OF HER2-POSITIVE EBC',\n",
       " 'ROLE OF ADJUVANT ET IN HR-POSITIVE EBC',\n",
       " 'SYSTEMIC TREATMENT OF HR-POSITIVE, HER2-NEGATIVE EBC',\n",
       " 'MANAGEMENT OF ALN INVOLVEMENT IN EBC',\n",
       " 'Patients with a suspicion of OMD',\n",
       " 'BRCA1 PV',\n",
       " 'BRCA2 PV',\n",
       " 'Diagnosis and staging of EBC',\n",
       " 'Overview of EBC treatment']"
      ]
     },
     "execution_count": 11,
     "metadata": {},
     "output_type": "execute_result"
    }
   ],
   "source": [
    "name_of_graphs"
   ]
  },
  {
   "cell_type": "code",
   "execution_count": 14,
   "id": "bbf02c6e",
   "metadata": {},
   "outputs": [
    {
     "name": "stdout",
     "output_type": "stream",
     "text": [
      "graph_name: MANAGEMENT OF ER-POSITIVE, HER2-NEGATIVE MBC\n",
      "converting graph output:\n",
      " {'A': [('B', ''), ('C', 'If imminent organ falure')], 'B': [('D', '')], 'C': [('B', 'PD or intolerable toxicities'), ('E', '')], 'D': [('I', ''), ('J', '')], 'E': [('D', '')], 'F': [('D', '')], 'I': [('K', ''), ('L', ''), ('M', ''), ('N', '')], 'J': [('P', '')], 'K': [('O', '')], 'L': [('O', '')], 'M': [('O', '')], 'N': [('O', '')], 'O': [('P', '')], 'P': [('Q', '')], 'Q': [('R', 'If HER2-0'), ('S', 'If HER2-Low')], 'R': [('T', '')], 'S': [('T', '')], 'T': []}\n",
      "patient_conditions list ['62', ' Female', ' Postmenopausal', ' Metastatic breast cancer', ' Bone metastases', ' Aromatase inhibitor (AI)', ' CDK4/6 inhibitor', ' ER-positive', ' HER2-negative', '']\n",
      "A\n",
      "B\n",
      "D\n",
      "I\n",
      "K\n",
      "O\n",
      "P\n",
      "Q\n",
      "question: Give me If HER2-0 status?\n",
      "question: Give me If HER2-0 status?\n",
      "Path taken:\n",
      "  A -> B\n",
      "  B -> D\n",
      "  D -> I\n",
      "  I -> K\n",
      "  K -> O\n",
      "  O -> P\n",
      "  P -> Q\n",
      "Elapsed time: 53.04077482223511 seconds\n"
     ]
    },
    {
     "data": {
      "text/plain": [
       "True"
      ]
     },
     "execution_count": 14,
     "metadata": {},
     "output_type": "execute_result"
    }
   ],
   "source": [
    "Frompatient_file_paragraph_to_following_treatment(name_of_graphs,patient_file_paragraph)"
   ]
  },
  {
   "cell_type": "code",
   "execution_count": 53,
   "id": "12aad953",
   "metadata": {},
   "outputs": [],
   "source": []
  },
  {
   "cell_type": "code",
   "execution_count": 88,
   "id": "eaf93244",
   "metadata": {},
   "outputs": [],
   "source": []
  },
  {
   "cell_type": "code",
   "execution_count": null,
   "id": "a2a18e9d",
   "metadata": {},
   "outputs": [],
   "source": []
  },
  {
   "cell_type": "code",
   "execution_count": null,
   "id": "9e0003a5",
   "metadata": {},
   "outputs": [],
   "source": []
  },
  {
   "cell_type": "markdown",
   "id": "34ffa318",
   "metadata": {},
   "source": [
    "### To Test"
   ]
  },
  {
   "cell_type": "code",
   "execution_count": 20,
   "id": "b1ba95fc",
   "metadata": {},
   "outputs": [],
   "source": [
    "patient_conditions = [\n",
    "    \"\",\n",
    "    \"New diagnosis of metastatic breast cancer (MBC)\", \n",
    "    \"Biopsy confirms diagnosis\", \n",
    "    \n",
    "    \"ER positive\",  \n",
    "    \"HER2 Negative\"\n",
    "    \n",
    "    \n",
    " \n",
    "]\n",
    "graph = {\n",
    "    'A': [('B', 'New diagnosis of metastatic breast cancer (MBC)')],\n",
    "    'B': [('C', 'Biopsy confirms diagnosis')],\n",
    "    'C': [('D', 'ER positive, HER2 negative'), ('E', 'TNBC (Triple Negative Breast Cancer)')],\n",
    "    'D': [('E', 'PIK3CA mutation negative'),('F', 'PIK3CA mutation positive')],\n",
    "    'E': [],\n",
    "    'F': [('G', 'Patient eligible for targeted therapy')],\n",
    "    'G': []\n",
    "}\n"
   ]
  },
  {
   "cell_type": "code",
   "execution_count": 26,
   "id": "75b5e465",
   "metadata": {},
   "outputs": [
    {
     "name": "stdout",
     "output_type": "stream",
     "text": [
      "A\n",
      "B\n",
      "C\n",
      "D\n",
      "Give me PIK3CA mutation status ?\n"
     ]
    }
   ],
   "source": [
    "path_taken = traverse_wit_conditions(graph, 'A', patient_conditions)"
   ]
  },
  {
   "cell_type": "code",
   "execution_count": null,
   "id": "b6a55280",
   "metadata": {},
   "outputs": [],
   "source": []
  },
  {
   "cell_type": "code",
   "execution_count": null,
   "id": "5514861e",
   "metadata": {},
   "outputs": [],
   "source": []
  },
  {
   "cell_type": "code",
   "execution_count": null,
   "id": "8eb443c7",
   "metadata": {},
   "outputs": [],
   "source": []
  },
  {
   "cell_type": "code",
   "execution_count": null,
   "id": "2ddb2365",
   "metadata": {},
   "outputs": [],
   "source": []
  },
  {
   "cell_type": "code",
   "execution_count": 24,
   "id": "4c0c3585",
   "metadata": {},
   "outputs": [],
   "source": [
    "def traverse_wit_conditions(graph,x,patient_conditions):\n",
    "    print(\"A\")\n",
    "    print(\"B\")\n",
    "    print(\"C\")\n",
    "    print(\"D\")\n",
    "    print(\"Give me PIK3CA mutation status ?\")"
   ]
  },
  {
   "cell_type": "markdown",
   "id": "2722b5c5",
   "metadata": {},
   "source": [
    "### Some prompt if you want to learn"
   ]
  },
  {
   "cell_type": "code",
   "execution_count": 104,
   "id": "3badbb4d",
   "metadata": {},
   "outputs": [],
   "source": [
    "prompt =f\"\"\"\n",
    "                        I am currently traversing a graph using the Depth-First Search (DFS) algorithm to evaluate specific conditions in a patient's medical file. \n",
    "                        The nodes represent specific conditions, and the edges represent possible transitions between these conditions.\n",
    "\n",
    "                        The decision on which node to traverse next is critical because it directly impacts the treatment plan for the patient. Therefore, focus **only** on the conditions provided and the conditions on the edges of the current node.\n",
    "\n",
    "                        I am currently at node '{current_node}', which represents '{graph[current_node]}'. \n",
    "                        The neighboring nodes are {', '.join([f\"{n} (condition: {c})\" for n, c in zip(suiv, x)])}.\n",
    "                        Based on the patient's current conditions: {conditions}, suggest the next node to move to, or ask for any specific condition needed to make this decision.\n",
    "\n",
    "                         **Output ONLY in the following format:**\n",
    "\n",
    "                        - If conditions are met: \"nextnode:<name of the node>\"\n",
    "                        - If additional information is required: \"question: <question containing the condition(s) needed to determine the next node>\"\n",
    "                        \"\"\"\n",
    "prompt = f\"\"\"\n",
    "                        I am currently traversing a graph using the Depth-First Search (DFS) algorithm to evaluate specific conditions in a patient's medical file. \n",
    "                        The nodes represent specific conditions, and the edges represent possible transitions between these conditions.\n",
    "\n",
    "                        The decision on which node to traverse next is critical because it directly impacts the treatment plan for the patient. Therefore, it is essential that you focus **only** on the conditions provided and the conditions on the edges of the current node.\n",
    "\n",
    "                        I am currently at node '{current_node}', which represents '{graph[current_node]}'. \n",
    "                        The neighboring nodes are {', '.join([f\"{n} (condition: {c})\" for n, c in zip(suiv, x)])}.\n",
    "\n",
    "                        ### Important Instructions:\n",
    "                        1. **Focus Exclusively on Conditions**: Only consider the provided conditions: {', '.join(conditions)} and the conditions on the edges connected to the current node. Ignore any other information or assumptions.\n",
    "                        2. **Decision Making**:\n",
    "                            - If one or more neighboring nodes' edge conditions match the provided conditions, respond with the exact format: 'NEXT_NODE:<name_of_node>'.\n",
    "                            - If none of the neighboring nodes are suitable based on the edge conditions, or if you need more information to make a decision, respond with the exact format: 'REQUEST_INFO:<specific_question_or_data_needed>'.\n",
    "                        3. **Formulating a Combined Question**: If additional information is required to make a decision, combine the necessary conditions and formulate a clear and concise question. For example, if the edge conditions for node C are: [('D', 'ER positive, HER2 negative'), ('E', 'TNBC (Triple Negative Breast Cancer')], your question should be:\n",
    "                            - 'Give me ER and HER2 status? or TNBC status?'\n",
    "                            - This question should guide the retrieval of the precise data needed to make an informed decision.\n",
    "                        4. **Do Not Guess**: If you are uncertain or the conditions do not match exactly, request more information rather than guessing. The accuracy of this decision is crucial for the patient's treatment.\n",
    "\n",
    "                        Your decision should be based **solely** on the provided conditions and the conditions of the edges from the current node. If needed, formulate a specific question that combines the conditions to request the necessary information.\n",
    "                        \"\"\"\n",
    "###################################\n",
    "prompt = f\"\"\"\n",
    "                        I am currently traversing a graph using the Depth-First Search (DFS) algorithm to evaluate specific conditions in a patient's medical file. \n",
    "                        The nodes represent specific conditions, and the edges represent possible transitions between these conditions.\n",
    "\n",
    "                        The decision on which node to traverse next is critical because it directly impacts the treatment plan for the patient. Therefore, it is essential that you focus **only** on the conditions provided and the conditions on the edges of the current node.\n",
    "\n",
    "                        I am currently at node '{current_node}', which represents '{graph[current_node]}'. \n",
    "                        The neighboring nodes are {', '.join([f\"{n} (condition: {c})\" for n, c in zip(suiv, x)])}.\n",
    "\n",
    "                        ### Important Instructions:\n",
    "                        1. **Focus Exclusively on Conditions**: Only consider the provided conditions: {', '.join(conditions)} and the conditions on the edges connected to the current node. Ignore any other information or assumptions.\n",
    "                        2. **Decision Making**:\n",
    "                            - If one or more neighboring nodes' edge conditions match the provided conditions, respond with the exact format: 'NEXT_NODE:<name_of_node>'.\n",
    "                            - If none of the neighboring nodes are suitable based on the edge conditions, or if you need more information to make a decision, respond with the exact format: 'REQUEST_INFO:<specific_question_or_data_needed>'.\n",
    "                        3. **Do Not Guess**: If you are uncertain or the conditions do not match exactly, request more information rather than guessing. The accuracy of this decision is crucial for the patient's treatment.\n",
    "\n",
    "                        Your decision should be based **solely** on the provided conditions and the conditions of the edges from the current node.\n",
    "                        \"\"\"\n",
    "#########################################\n",
    "prompt = f\"\"\"\n",
    "                I am traversing a graph using Depth-First Search (DFS) to evaluate conditions in a patient's medical file.\n",
    "                Nodes represent conditions, and edges represent possible transitions.\n",
    "                The graph is: {graph}\n",
    "                Currently at node '{current_node}'\n",
    "                List the neighbors: {', '.join([f\"{n} (condition: {c})\" for n, c in zip(suiv, x)])}\n",
    "\n",
    "                **All conditions required for a transition must be explicitly provided and satisfied before proceeding to the next node.**\n",
    "\n",
    "                If any condition is missing or not explicitly provided, you **must** request more information before proceeding. Do not guess or infer. The accuracy of this decision is crucial for the patient's treatment.\n",
    "\n",
    "                **Incorrect decisions may result in suboptimal treatment plans.**\n",
    "\n",
    "                Formulate a specific question to request the missing information if needed.\n",
    "                **Do Not Guess**: If you are uncertain or if even one condition does not match exactly, request more information rather than guessing.\n",
    "\n",
    "                **Output ONLY:**\n",
    "\n",
    "                - If all conditions match exactly one node: \"nextnode:<name of the node>\"\n",
    "                - If additional information is needed to proceed: \"question: {\" or \".join([f'Give me {c} status?' for c in x])}\"\n",
    "\n",
    "                **Do not provide explanations or any other information.**\n",
    "\"\"\"\n",
    "##########################################\n",
    "                prompt = f\"\"\"\n",
    "                    You are traversing a medical decision graph using Depth-First Search (DFS).\n",
    "                    Nodes represent conditions, and edges represent possible transitions.\n",
    "\n",
    "                    Current state:\n",
    "                    - Graph: {graph}\n",
    "                    - Current Node: '{current_node}'\n",
    "                    - Neighbors: {', '.join([f\"{n} (condition: {c})\" for n, c in zip(suiv, x)])}\n",
    "\n",
    "                    **Instructions:**\n",
    "                    1. Check if the patient's conditions match any of the transition conditions listed.\n",
    "                    2. If a match is found, provide the next node in the format: \"nextnode:<name of the node>\".\n",
    "                    3. If no match is found or if more information is needed, ask for it in the format: \"question:<specific question>\".\n",
    "\n",
    "                    **Rules:**\n",
    "                    - Do not make assumptions. Only proceed if conditions match exactly.\n",
    "                    - If unsure, always ask for more information.\n",
    "\n",
    "                    **Output ONLY:**\n",
    "                     - If all conditions match exactly one node: \"nextnode:<name of the node>\"\n",
    "                     - If additional information is needed to proceed: \"question: {\" or \".join([f'Give me {c} status?' for c in x])}\"\n",
    "\n",
    "                    **Do not provide explanations or any other information.**\n",
    "                    \"\"\""
   ]
  },
  {
   "cell_type": "code",
   "execution_count": null,
   "id": "8a617e5a",
   "metadata": {},
   "outputs": [],
   "source": []
  },
  {
   "cell_type": "code",
   "execution_count": null,
   "id": "eb9715e8",
   "metadata": {},
   "outputs": [],
   "source": []
  },
  {
   "cell_type": "code",
   "execution_count": null,
   "id": "c6120c95",
   "metadata": {},
   "outputs": [],
   "source": [
    "\"\"\"\n",
    "THIRD-LINE AND BEYOND TREATMENT OF HER2-POSITIVE MBC\":{\n",
    "        \"nodes\": {\n",
    "            \"A\": \"Patients with HER2+ MBC\\n 3rd-line treatment and beyond\",\n",
    "            \"B\": \"Road of Active BMs\",\n",
    "            \"C\": \"Road of No, unknown or stable BMs\",\n",
    "            \"D\": \"Local intervention indicated.\",\n",
    "            \"E\": \"Local intervention not indicated\",\n",
    "            \"F\": \"Case of BMs beteween 1-10, favourable prognostic factors\"\n",
    "            \"G\": \"Resction\",\n",
    "            \"H\": \"SRT\",\n",
    "            \"I\": \"Case of BMs < 10 , unfavourable prognostic factors\",\n",
    "            \"J\":\"WBT\",\n",
    "            \"K\": \"Tucatinib-capecitabine-trastuzumab\",\n",
    "            \"L\": \"Trastuzumab deruxtecan\",\n",
    "            \"M\": \"Tucatinib-capecitabine-trastuzumab or Trastuzumab deruxtecan+ or T-DM1#\",\n",
    "            \"N\": \"Lapatinib-capecitabine Lapatinib-trastuzumab* Trastuzumab-ChT* Margetuximab-ChT*t Neratinib-ChT*+\"\n",
    "            }\n",
    "            \"edges\": [\n",
    "            (\"A\",\"B\",\"Active BMs\"),\n",
    "            (\"A\",\"C\",\"No, unknown or stable BMs\"),\n",
    "            (\"B\",\"D\",\"Local intervention indicated\"),\n",
    "            (\"B\",\"E\",\"Local intervention not indicated\"),\n",
    "            (\"E\",\"F\",\"BMs value between 1 and 10 and favourable prognostic factors\"),\n",
    "            (\"F\",\"G\",\"BMs value >= 3 or Located in or near critical areas of the brain or Significant neurological symptoms or Rapidly growing lesions or Good overall health and ability to tolerate surgery\"),\n",
    "            (\"F\",\"H\",\"BMs value < 3 or Located in non-critical areas of the brain or  Minimal or no neurological symptoms or Slow-growing or stable lesions or Patient has comorbidities or poor performance status\"),\n",
    "            (\"G\",\"H\",\"\"),\n",
    "            \n",
    "            (\"E\",\"I\",\"BMs value >10 and unfavourable prognostic factors\")\n",
    "            (\"I\",\"J\",\"\"),\n",
    "            \n",
    "            (\"D\",\"K\",\"\"),\n",
    "            (\"K\",\"L\",\"the disease progresses or if the first combination is not suitable.\"),\n",
    "            (\"L\",\"N\",\"\")\n",
    "            (\"C\",\"M\",\"\"),\n",
    "            (\"M\",\"N\",\"\")\n",
    "            \n",
    "            ]"
   ]
  },
  {
   "cell_type": "code",
   "execution_count": 36,
   "id": "2f89d43d",
   "metadata": {},
   "outputs": [],
   "source": [
    "graph = {\n",
    "    'A': [('B', 'Active BMs'), ('C', 'No, unknown or stable BMs')],\n",
    "    'B': [('D', 'Local intervention indicated'), ('E', 'Local intervention not indicated')],\n",
    "    'C': [('M', '')],\n",
    "    'D': [('K', '')],\n",
    "    'E': [('F', 'BMs value between 1 and 10 and favourable prognostic factors'), ('I', 'BMs value >10 and unfavourable prognostic factors')],\n",
    "    'F': [('G', 'BMs value >= 3 or Located in or near critical areas of the brain or Significant neurological symptoms or Rapidly growing lesions or Good overall health and ability to tolerate surgery'),\n",
    "          ('H', 'BMs value < 3 or Located in non-critical areas of the brain or Minimal or no neurological symptoms or Slow-growing or stable lesions or Patient has comorbidities or poor performance status')],\n",
    "    'G': [('H', '')],\n",
    "    'H': [],\n",
    "    'I': [('J', '')],\n",
    "    'J': [],\n",
    "    'K': [('L', 'the disease progresses or if the first combination is not suitable.')],\n",
    "    'L': [('N', '')],\n",
    "    'M': [('N', '')],\n",
    "    'N': []\n",
    "}\n"
   ]
  },
  {
   "cell_type": "code",
   "execution_count": 28,
   "id": "b019679e",
   "metadata": {},
   "outputs": [],
   "source": [
    "patient=\"\"\"The patient has HER2-positive metastatic breast cancer (MBC) and is undergoing 3rd-line treatment or beyond. The current status of the patient's brain metastases (BMs) is active. Local intervention for these BMs is not indicated. The BMs are evaluated to be between 1 and 10 and the patient has favorable prognostic factors. Given these conditions, the next step in the treatment plan is to assess the nature of the BMs further. Depending on whether the BMs meet specific criteria, the treatment may involve either resection if the BMs are located in or near critical areas of the brain with significant neurological symptoms or rapidly growing lesions, or stereotactic radiotherapy (SRT) if the BMs are in non-critical areas, minimal or stable, or if the patient has comorbidities or poor performance status. If local intervention were indicated, the treatment would involve Tucatinib-capecitabine-trastuzumab. If the BMs had been greater than 10 with unfavorable prognostic factors, the patient would have received whole brain radiotherapy (WBT). For patients with no, unknown, or stable BMs, treatment options include Tucatinib-capecitabine-trastuzumab, Trastuzumab deruxtecan, or T-DM1.\"\"\""
   ]
  },
  {
   "cell_type": "code",
   "execution_count": 29,
   "id": "86558205",
   "metadata": {},
   "outputs": [],
   "source": [
    "l=fromparaph_toalist_extraction(patient)"
   ]
  },
  {
   "cell_type": "code",
   "execution_count": 32,
   "id": "71ef671f",
   "metadata": {},
   "outputs": [
    {
     "name": "stdout",
     "output_type": "stream",
     "text": [
      "['HER2+ MBC', '3rd-line or beyond', 'local intervention indicated', 'active BMs', 'Number of BMs: 5', 'Prognostic Factors: Favorable', 'Age: 52', 'Patient Name: Jane Doe']\n"
     ]
    }
   ],
   "source": [
    "print(l)"
   ]
  },
  {
   "cell_type": "code",
   "execution_count": 39,
   "id": "d5a670f3",
   "metadata": {},
   "outputs": [
    {
     "name": "stdout",
     "output_type": "stream",
     "text": [
      "A\n",
      "question: Give me Active BMs status?\n",
      "question: Give me Active BMs status?\n",
      "Path taken:\n"
     ]
    }
   ],
   "source": [
    "l=[\"HER2+ MBC\",\"3rd-line or beyond\",\"local intervention indicated\",\"active BMs\",\"Number of BMs: 5\",\"Prognostic Factors: Favorable\",\"Age: 52\",\"Patient Name: Jane Doe\"]\n",
    "path_taken = traverse_with_conditions(graph, 'A', l)\n",
    "\n",
    "# Output the path taken\n",
    "print(\"Path taken:\")\n",
    "for step in path_taken:\n",
    "    print(f\"  {step[0]} -> {step[1]}\")"
   ]
  },
  {
   "cell_type": "code",
   "execution_count": null,
   "id": "d508c72e",
   "metadata": {},
   "outputs": [],
   "source": []
  },
  {
   "cell_type": "code",
   "execution_count": 45,
   "id": "f4e92d10",
   "metadata": {},
   "outputs": [],
   "source": []
  },
  {
   "cell_type": "code",
   "execution_count": 46,
   "id": "fb037d2e",
   "metadata": {},
   "outputs": [],
   "source": []
  },
  {
   "cell_type": "code",
   "execution_count": null,
   "id": "5aef8e11",
   "metadata": {},
   "outputs": [],
   "source": []
  }
 ],
 "metadata": {
  "kernelspec": {
   "display_name": "Python 3 (ipykernel)",
   "language": "python",
   "name": "python3"
  },
  "language_info": {
   "codemirror_mode": {
    "name": "ipython",
    "version": 3
   },
   "file_extension": ".py",
   "mimetype": "text/x-python",
   "name": "python",
   "nbconvert_exporter": "python",
   "pygments_lexer": "ipython3",
   "version": "3.10.9"
  }
 },
 "nbformat": 4,
 "nbformat_minor": 5
}
