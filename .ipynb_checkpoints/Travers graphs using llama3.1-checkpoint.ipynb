{
 "cells": [
  {
   "cell_type": "markdown",
   "id": "6fed6c48",
   "metadata": {},
   "source": [
    "### Interactive LLM"
   ]
  },
  {
   "cell_type": "markdown",
   "id": "f676df38",
   "metadata": {},
   "source": [
    "### Step 0 : Importing our Model from OLLAMA\n"
   ]
  },
  {
   "cell_type": "code",
   "execution_count": 69,
   "id": "36bab2c5",
   "metadata": {},
   "outputs": [],
   "source": [
    "import os\n",
    "from langchain_community.llms.ollama import Ollama\n",
    "\n",
    "# Load the locally hosted model\n",
    "model_path = 'llama3.1'  # Ensure this path corresponds to the correct model name\n",
    "llm = Ollama(model=model_path)\n",
    "\n",
    "# Set the temperature parameter if needed\n",
    "llm.temperature = 0\n",
    "\n",
    "# Define a function to ask the LLM a question\n",
    "def ask_llm(prompt):\n",
    "    response = llm(prompt)\n",
    "    return response\n",
    "\n",
    "\n"
   ]
  },
  {
   "cell_type": "markdown",
   "id": "23312068",
   "metadata": {},
   "source": [
    "### Step1 : Find the equivalent graph to this patient"
   ]
  },
  {
   "cell_type": "code",
   "execution_count": null,
   "id": "c59fafef",
   "metadata": {},
   "outputs": [],
   "source": [
    "def find_the_equivalent_graph_to_this_patient(name_of_graphs,patient_file_paragraph):\n",
    "    prompt = f\"\"\"\n",
    "    From this list of names of graphs {name_of_graphs}, pick the graph that corresponds to this patient file {patient_file_paragraph}. \n",
    "    Return **only** the name of the graph. If there is no matching graph, return 'idk'.\n",
    "    \"\"\"\n",
    "    graph_name = ask_llm(prompt)\n",
    "    return graph_name"
   ]
  },
  {
   "cell_type": "markdown",
   "id": "9febceb3",
   "metadata": {},
   "source": [
    "### Step2:Convert to graph\n",
    "MOCHKELT DATABASE ARCHITETURE INAJMOU INBADLOUHA "
   ]
  },
  {
   "cell_type": "code",
   "execution_count": null,
   "id": "400a9f3a",
   "metadata": {},
   "outputs": [],
   "source": [
    "def convert_to_graph(input_dict):\n",
    "    # Initialize the graph dictionary\n",
    "    graph = {}\n",
    "\n",
    "    # Extract nodes and edges from the input dictionary\n",
    "    nodes = input_dict['nodes']\n",
    "    edges = input_dict['edges']\n",
    "    \n",
    "    # Create an entry for each node\n",
    "    for node, description in nodes.items():\n",
    "        graph[node] = []\n",
    "\n",
    "    # Create edges based on the input\n",
    "    for start, end, condition in edges:\n",
    "        # Add the edge to the graph\n",
    "        if start in graph:\n",
    "            graph[start].append((end, condition))\n",
    "\n",
    "    return graph"
   ]
  },
  {
   "cell_type": "markdown",
   "id": "2a573001",
   "metadata": {},
   "source": [
    "### Step 3: From paraph to a list extraction\n"
   ]
  },
  {
   "cell_type": "code",
   "execution_count": null,
   "id": "ea8425e1",
   "metadata": {},
   "outputs": [],
   "source": [
    "def fromparaph_toalist_extraction(paragraph):\n",
    "    prompt1 = f\"\"\"\n",
    "        Extract the following key medical information from the given text into a structured list:\n",
    "        - Age\n",
    "        - Gender\n",
    "        - Medical history\n",
    "        - Diagnoses\n",
    "        - Treatments\n",
    "        - Medications\n",
    "        - Relevant information for clinical decision-making\n",
    "\n",
    "        Text: \"{paragraph}\"\n",
    "\n",
    "        Output the information in a list format without labels or extra explanations:\n",
    "        [Age, Gender, Medical history, Diagnoses, Treatments, Medications, Relevant information for clinical decision-making]\n",
    "\n",
    "        **Response should include all relevant details in a simple list format as shown above.**\n",
    "        \"\"\"\n",
    "    response = ask_llm(prompt1)\n",
    "    #print(\"LLM Response:\", response)\n",
    "    #output list 7athra\n",
    "    return response[1:-1].split(',')\n"
   ]
  },
  {
   "cell_type": "markdown",
   "id": "c6fdf8fa",
   "metadata": {},
   "source": [
    "### Step 4 : Parcour the graph and give the node or question if you need more info"
   ]
  },
  {
   "cell_type": "code",
   "execution_count": null,
   "id": "be642c71",
   "metadata": {},
   "outputs": [],
   "source": [
    "def traverse_with_conditions(graph, start_node, conditions,path=[],graph_name=\"Breast Cancer Treatment Pathway\"):\n",
    "    path=[]\n",
    "    current_node = start_node\n",
    "    while(1):\n",
    "        \n",
    "        found=False\n",
    "        print(current_node)\n",
    "        x=[]\n",
    "        suiv=[]\n",
    "        for neighbor, edge_condition in graph[current_node]:\n",
    "            \n",
    "\n",
    "            if edge_condition in conditions:\n",
    "                    path.append((current_node, neighbor))\n",
    "                    current_node = neighbor\n",
    "                    found = True\n",
    "                    break   \n",
    "            else:\n",
    "                x.append(edge_condition)\n",
    "                suiv.append(neighbor)\n",
    "\n",
    "\n",
    "        if not found:\n",
    "            if len(suiv)!=0:\n",
    "                \n",
    "                \n",
    "                prompt = f\"\"\"\n",
    "                I am traversing a graph using Depth-First Search (DFS) to evaluate conditions in a patient's medical file.\n",
    "                Nodes represent conditions, and edges represent possible transitions.\n",
    "                The graph is: {graph}\n",
    "                Currently at node '{current_node}'\n",
    "                List the neighbors: {', '.join([f\"{n} (condition: {c})\" for n, c in zip(suiv, x)])}\n",
    "\n",
    "                **All conditions required for a transition must be explicitly provided and satisfied before proceeding to the next node.**\n",
    "\n",
    "                If any condition is missing or not explicitly provided, you **must** request more information before proceeding. Do not guess or infer. The accuracy of this decision is crucial for the patient's treatment.\n",
    "\n",
    "                **Incorrect decisions may result in suboptimal treatment plans.**\n",
    "\n",
    "                Formulate a specific question to request the missing information if needed.\n",
    "                **Do Not Guess**: If you are uncertain or if even one condition does not match exactly, request more information rather than guessing.\n",
    "\n",
    "                **Output ONLY:**\n",
    "\n",
    "                - If all conditions match exactly one node: \"nextnode:<name of the node>\"\n",
    "                - If additional information is needed to proceed: \"question: {\" or \".join([f'Give me {c} status?' for c in x])}\"\n",
    "\n",
    "                **Do not provide explanations or any other information.**\n",
    "\"\"\"\n",
    "\n",
    "\n",
    "                #print(prompt)\n",
    "                \n",
    "                \n",
    "                \n",
    "                response = ask_llm(prompt,current_node)\n",
    "                \n",
    "                ch=\"\"\n",
    "                if \"nextnode:\" in response:\n",
    "                    ch=response[len(\"nextnode:\"):].replace(\" \", \"\")\n",
    "                    path.append((current_node, ch))\n",
    "                    current_node = ch\n",
    "                    print(current_node,len(current_node))\n",
    "                    found = True\n",
    "                       \n",
    "                else:\n",
    "                    \n",
    "                    print(response)\n",
    "                    #print(f\"taw netfehmou khater lezemik '{x}' condition w enty f {current_node}.\")\n",
    "                    break\n",
    "            else:\n",
    "                print(\"wselt node final:\",current_node)\n",
    "                break\n",
    "\n",
    "    return path\n"
   ]
  },
  {
   "cell_type": "markdown",
   "id": "0f233fff",
   "metadata": {},
   "source": [
    "### Final treatment output function !\n"
   ]
  },
  {
   "cell_type": "code",
   "execution_count": 26,
   "id": "598867c1",
   "metadata": {},
   "outputs": [
    {
     "name": "stdout",
     "output_type": "stream",
     "text": [
      "LLM Response: MANAGEMENT OF HR-POSITIVE, HER2-NEGATIVE MBC\n",
      "LLM Response: FIRST- AND SECOND-LINE TREATMENT OF HER2-POSITIVE MBC\n",
      "LLM Response: MANAGEMENT OF mTNBC\n"
     ]
    }
   ],
   "source": [
    "import time\n",
    "def Frompatient_file_paragraph_to_following_treatment(name_of_graphs,patient_file_paragraph):\n",
    "    # Start time\n",
    "    start_time = time.time()\n",
    "\n",
    "    # Your code here\n",
    "    graph_name=find_the_equivalent_graph_to_this_patient(name_of_graphs,patient_file_paragraph)\n",
    "    if graph_name=='idk':\n",
    "        return False\n",
    "    print(\"graph_name:\", graph_name)\n",
    "    graph=convert_to_graph(graphs[graph_name])\n",
    "    print(\"converting graph output:\\n\",graph)\n",
    "    patient_conditions=fromparaph_toalist_extraction(patient_file_paragraph)\n",
    "    print(\"patient_conditions list\",patient_conditions)\n",
    "    # Start the traversal from node 'A'\n",
    "    path_taken = traverse_with_conditions(graph, 'A', patient_conditions)\n",
    "\n",
    "    # Output the path taken\n",
    "    print(\"Path taken:\")\n",
    "    for step in path_taken:\n",
    "        print(f\"  {step[0]} -> {step[1]}\")\n",
    "    \n",
    "    # End time\n",
    "    end_time = time.time()\n",
    "    elapsed_time = end_time - start_time\n",
    "    print(f\"Elapsed time: {elapsed_time} seconds\")\n",
    "    return True"
   ]
  },
  {
   "cell_type": "code",
   "execution_count": null,
   "id": "0cf21ab7",
   "metadata": {},
   "outputs": [],
   "source": [
    "#Some cases\n",
    "#LLM Response: MANAGEMENT OF HR-POSITIVE, HER2-NEGATIVE MBC\n",
    "#LLM Response: FIRST- AND SECOND-LINE TREATMENT OF HER2-POSITIVE MBC\n",
    "#LLM Response: MANAGEMENT OF mTNBC\n",
    "\"\"\"A 62-year-old postmenopausal woman with ER-positive, HER2-negative metastatic breast cancer.\n",
    "She has bone metastases but no visceral involvement.\n",
    "She has been previously treated with an aromatase inhibitor (AI) and a CDK4/6 inhibitor.\n",
    "-----------------------------------------\n",
    "A 48-year-old premenopausal woman with HER2-positive, ER-negative metastatic breast cancer. The cancer has metastasized to the liver and lungs. She has not been treated with any targeted therapy for HER2.\n",
    "------------------------------------------\n",
    "A 45-year-old woman with metastatic triple-negative breast cancer (mTNBC). She is PD-L1 positive and has a germline BRCA1 mutation. The cancer has spread to the lungs and bones.\n",
    "\"\"\"\n"
   ]
  },
  {
   "cell_type": "markdown",
   "id": "b32723b2",
   "metadata": {},
   "source": [
    "### Enter Patient File"
   ]
  },
  {
   "cell_type": "code",
   "execution_count": null,
   "id": "5770ba68",
   "metadata": {},
   "outputs": [],
   "source": [
    "patient_file_paragraph=input()"
   ]
  },
  {
   "cell_type": "code",
   "execution_count": null,
   "id": "8f77a410",
   "metadata": {},
   "outputs": [],
   "source": [
    "#1-identify the correspond graph\n",
    "import ast\n",
    "\n",
    "# Step 1: Read the content of the file\n",
    "with open('Graphs.txt', 'r') as file:\n",
    "    file_content = file.read()\n",
    "\n",
    "# Step 2: Convert the string content to a dictionary\n",
    "graphs = ast.literal_eval(file_content)\n",
    "\n",
    "# Step 3: Now, 'graphs' is a dictionary that you can use\n",
    "print(type(graphs))\n",
    "\n"
   ]
  },
  {
   "cell_type": "code",
   "execution_count": null,
   "id": "70280423",
   "metadata": {},
   "outputs": [],
   "source": [
    "name_of_graphs=[]\n",
    "for i in graphs:\n",
    "    name_of_graphs.append(i)\n"
   ]
  },
  {
   "cell_type": "code",
   "execution_count": null,
   "id": "bbf02c6e",
   "metadata": {},
   "outputs": [],
   "source": [
    "Frompatient_file_paragraph_to_following_treatment(name_of_graphs,patient_file_paragraph)"
   ]
  },
  {
   "cell_type": "code",
   "execution_count": null,
   "id": "40b027f4",
   "metadata": {},
   "outputs": [],
   "source": []
  },
  {
   "cell_type": "code",
   "execution_count": 53,
   "id": "12aad953",
   "metadata": {},
   "outputs": [],
   "source": []
  },
  {
   "cell_type": "code",
   "execution_count": 88,
   "id": "eaf93244",
   "metadata": {},
   "outputs": [],
   "source": []
  },
  {
   "cell_type": "code",
   "execution_count": null,
   "id": "a2a18e9d",
   "metadata": {},
   "outputs": [],
   "source": []
  },
  {
   "cell_type": "code",
   "execution_count": null,
   "id": "9e0003a5",
   "metadata": {},
   "outputs": [],
   "source": []
  },
  {
   "cell_type": "markdown",
   "id": "34ffa318",
   "metadata": {},
   "source": [
    "### To Test"
   ]
  },
  {
   "cell_type": "code",
   "execution_count": 49,
   "id": "b1ba95fc",
   "metadata": {},
   "outputs": [],
   "source": [
    "patient_conditions = [\n",
    "    \"\",\n",
    "    \"New diagnosis of metastatic breast cancer (MBC)\", \n",
    "    \"Biopsy confirms diagnosis\", \n",
    "    \"ER positive\",  \n",
    "    \"HER2 negative\",\n",
    "    'PIK3CA mutation positive',\n",
    " \n",
    "]\n",
    "graph = {\n",
    "    'A': [('B', 'New diagnosis of metastatic breast cancer (MBC)')],\n",
    "    'B': [('C', 'Biopsy confirms diagnosis')],\n",
    "    'C': [('D', 'ER positive, HER2 negative'), ('E', 'TNBC (Triple Negative Breast Cancer)')],\n",
    "    'D': [('E', 'PIK3CA mutation negative'),('F', 'PIK3CA mutation positive')],\n",
    "    'E': [],\n",
    "    'F': [('G', 'Patient eligible for targeted therapy')],\n",
    "    'G': []\n",
    "}\n"
   ]
  },
  {
   "cell_type": "code",
   "execution_count": null,
   "id": "75b5e465",
   "metadata": {},
   "outputs": [],
   "source": [
    "path_taken = traverse_with_conditions(graph, 'A', patient_conditions)\n",
    "\n",
    "# Output the path taken\n",
    "print(\"Path taken:\")\n",
    "for step in path_taken:\n",
    "    print(f\"  {step[0]} -> {step[1]}\")"
   ]
  },
  {
   "cell_type": "code",
   "execution_count": null,
   "id": "b6a55280",
   "metadata": {},
   "outputs": [],
   "source": []
  },
  {
   "cell_type": "code",
   "execution_count": null,
   "id": "5514861e",
   "metadata": {},
   "outputs": [],
   "source": []
  },
  {
   "cell_type": "code",
   "execution_count": null,
   "id": "8eb443c7",
   "metadata": {},
   "outputs": [],
   "source": []
  },
  {
   "cell_type": "code",
   "execution_count": null,
   "id": "2ddb2365",
   "metadata": {},
   "outputs": [],
   "source": []
  },
  {
   "cell_type": "code",
   "execution_count": null,
   "id": "4c0c3585",
   "metadata": {},
   "outputs": [],
   "source": []
  },
  {
   "cell_type": "markdown",
   "id": "2722b5c5",
   "metadata": {},
   "source": [
    "### Some prompt if you want to learn"
   ]
  },
  {
   "cell_type": "code",
   "execution_count": 104,
   "id": "3badbb4d",
   "metadata": {},
   "outputs": [],
   "source": [
    "prompt =f\"\"\"\n",
    "                        I am currently traversing a graph using the Depth-First Search (DFS) algorithm to evaluate specific conditions in a patient's medical file. \n",
    "                        The nodes represent specific conditions, and the edges represent possible transitions between these conditions.\n",
    "\n",
    "                        The decision on which node to traverse next is critical because it directly impacts the treatment plan for the patient. Therefore, focus **only** on the conditions provided and the conditions on the edges of the current node.\n",
    "\n",
    "                        I am currently at node '{current_node}', which represents '{graph[current_node]}'. \n",
    "                        The neighboring nodes are {', '.join([f\"{n} (condition: {c})\" for n, c in zip(suiv, x)])}.\n",
    "                        Based on the patient's current conditions: {conditions}, suggest the next node to move to, or ask for any specific condition needed to make this decision.\n",
    "\n",
    "                         **Output ONLY in the following format:**\n",
    "\n",
    "                        - If conditions are met: \"nextnode:<name of the node>\"\n",
    "                        - If additional information is required: \"question: <question containing the condition(s) needed to determine the next node>\"\n",
    "                        \"\"\"\n",
    "prompt = f\"\"\"\n",
    "                        I am currently traversing a graph using the Depth-First Search (DFS) algorithm to evaluate specific conditions in a patient's medical file. \n",
    "                        The nodes represent specific conditions, and the edges represent possible transitions between these conditions.\n",
    "\n",
    "                        The decision on which node to traverse next is critical because it directly impacts the treatment plan for the patient. Therefore, it is essential that you focus **only** on the conditions provided and the conditions on the edges of the current node.\n",
    "\n",
    "                        I am currently at node '{current_node}', which represents '{graph[current_node]}'. \n",
    "                        The neighboring nodes are {', '.join([f\"{n} (condition: {c})\" for n, c in zip(suiv, x)])}.\n",
    "\n",
    "                        ### Important Instructions:\n",
    "                        1. **Focus Exclusively on Conditions**: Only consider the provided conditions: {', '.join(conditions)} and the conditions on the edges connected to the current node. Ignore any other information or assumptions.\n",
    "                        2. **Decision Making**:\n",
    "                            - If one or more neighboring nodes' edge conditions match the provided conditions, respond with the exact format: 'NEXT_NODE:<name_of_node>'.\n",
    "                            - If none of the neighboring nodes are suitable based on the edge conditions, or if you need more information to make a decision, respond with the exact format: 'REQUEST_INFO:<specific_question_or_data_needed>'.\n",
    "                        3. **Formulating a Combined Question**: If additional information is required to make a decision, combine the necessary conditions and formulate a clear and concise question. For example, if the edge conditions for node C are: [('D', 'ER positive, HER2 negative'), ('E', 'TNBC (Triple Negative Breast Cancer')], your question should be:\n",
    "                            - 'Give me ER and HER2 status? or TNBC status?'\n",
    "                            - This question should guide the retrieval of the precise data needed to make an informed decision.\n",
    "                        4. **Do Not Guess**: If you are uncertain or the conditions do not match exactly, request more information rather than guessing. The accuracy of this decision is crucial for the patient's treatment.\n",
    "\n",
    "                        Your decision should be based **solely** on the provided conditions and the conditions of the edges from the current node. If needed, formulate a specific question that combines the conditions to request the necessary information.\n",
    "                        \"\"\"\n",
    "###################################\n",
    "prompt = f\"\"\"\n",
    "                        I am currently traversing a graph using the Depth-First Search (DFS) algorithm to evaluate specific conditions in a patient's medical file. \n",
    "                        The nodes represent specific conditions, and the edges represent possible transitions between these conditions.\n",
    "\n",
    "                        The decision on which node to traverse next is critical because it directly impacts the treatment plan for the patient. Therefore, it is essential that you focus **only** on the conditions provided and the conditions on the edges of the current node.\n",
    "\n",
    "                        I am currently at node '{current_node}', which represents '{graph[current_node]}'. \n",
    "                        The neighboring nodes are {', '.join([f\"{n} (condition: {c})\" for n, c in zip(suiv, x)])}.\n",
    "\n",
    "                        ### Important Instructions:\n",
    "                        1. **Focus Exclusively on Conditions**: Only consider the provided conditions: {', '.join(conditions)} and the conditions on the edges connected to the current node. Ignore any other information or assumptions.\n",
    "                        2. **Decision Making**:\n",
    "                            - If one or more neighboring nodes' edge conditions match the provided conditions, respond with the exact format: 'NEXT_NODE:<name_of_node>'.\n",
    "                            - If none of the neighboring nodes are suitable based on the edge conditions, or if you need more information to make a decision, respond with the exact format: 'REQUEST_INFO:<specific_question_or_data_needed>'.\n",
    "                        3. **Do Not Guess**: If you are uncertain or the conditions do not match exactly, request more information rather than guessing. The accuracy of this decision is crucial for the patient's treatment.\n",
    "\n",
    "                        Your decision should be based **solely** on the provided conditions and the conditions of the edges from the current node.\n",
    "                        \"\"\""
   ]
  }
 ],
 "metadata": {
  "kernelspec": {
   "display_name": "Python 3 (ipykernel)",
   "language": "python",
   "name": "python3"
  },
  "language_info": {
   "codemirror_mode": {
    "name": "ipython",
    "version": 3
   },
   "file_extension": ".py",
   "mimetype": "text/x-python",
   "name": "python",
   "nbconvert_exporter": "python",
   "pygments_lexer": "ipython3",
   "version": "3.10.9"
  }
 },
 "nbformat": 4,
 "nbformat_minor": 5
}
